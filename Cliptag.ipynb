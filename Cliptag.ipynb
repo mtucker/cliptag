{
  "cells": [
    {
      "cell_type": "code",
      "execution_count": null,
      "metadata": {
        "colab": {
          "base_uri": "https://localhost:8080/"
        },
        "id": "WDAOVA8dtmR-",
        "outputId": "ca96e5b3-5566-4264-d4e4-71b1e7ef8c49"
      },
      "outputs": [],
      "source": [
        "%pip install torch\n",
        "%pip install clip_interrogator"
      ]
    },
    {
      "cell_type": "code",
      "execution_count": 2,
      "metadata": {
        "id": "pSgE68w04WQC"
      },
      "outputs": [],
      "source": [
        "from typing import List\n",
        "from clip_interrogator import Interrogator, LabelTable\n",
        "\n",
        "def encode_and_cache_keywords(labels:List[str], desc:str, ci: Interrogator):\n",
        "    _ = LabelTable(labels, desc, ci)"
      ]
    },
    {
      "cell_type": "code",
      "execution_count": 6,
      "metadata": {
        "colab": {
          "base_uri": "https://localhost:8080/"
        },
        "id": "bJ1tJyL0-8qQ",
        "outputId": "1313dc44-baba-4d49-c1ee-ebf6b0c351f6"
      },
      "outputs": [
        {
          "name": "stdout",
          "output_type": "stream",
          "text": [
            "Using CPU\n",
            "Loading CLIP model ViT-L-14/openai...\n",
            "Loading CLIP model ViT-B-32/laion2b_s34b_b79k...\n"
          ]
        }
      ],
      "source": [
        "from clip_interrogator import Config\n",
        "from cliptag.cliptag import load_keywords_from_files, CIInterrogator\n",
        "import torch \n",
        "\n",
        "if torch.cuda.is_available():\n",
        "    # Use the GPU (CUDA) as the device\n",
        "    device = torch.device(\"cuda\")\n",
        "    print(\"Using GPU:\", torch.cuda.get_device_name(0))\n",
        "else:\n",
        "    # Use the CPU as the device\n",
        "    device = torch.device(\"cpu\")\n",
        "    print(\"Using CPU\")\n",
        "\n",
        "model_names = [\n",
        "   \"ViT-L-14/openai\",\n",
        "   \"ViT-B-32/laion2b_s34b_b79k\" \n",
        "]\n",
        "keywords = load_keywords_from_files(\"features/test\")\n",
        "\n",
        "for model_name in model_names:\n",
        "  config = Config(clip_model_name=model_name, caption_model_name=None, device=device)\n",
        "  ci = CIInterrogator(config)\n",
        "  encode_and_cache_keywords(keywords, \"keywords\", ci)"
      ]
    }
  ],
  "metadata": {
    "accelerator": "GPU",
    "colab": {
      "provenance": []
    },
    "gpuClass": "standard",
    "kernelspec": {
      "display_name": "Python 3",
      "name": "python3"
    },
    "language_info": {
      "codemirror_mode": {
        "name": "ipython",
        "version": 3
      },
      "file_extension": ".py",
      "mimetype": "text/x-python",
      "name": "python",
      "nbconvert_exporter": "python",
      "pygments_lexer": "ipython3",
      "version": "3.11.2"
    }
  },
  "nbformat": 4,
  "nbformat_minor": 0
}
